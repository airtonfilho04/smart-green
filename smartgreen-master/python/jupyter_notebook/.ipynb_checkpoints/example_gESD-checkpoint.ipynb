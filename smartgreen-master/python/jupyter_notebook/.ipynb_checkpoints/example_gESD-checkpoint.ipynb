{
 "cells": [
  {
   "cell_type": "code",
   "execution_count": 2,
   "metadata": {
    "collapsed": true
   },
   "outputs": [],
   "source": [
    "# Source: http://www.hs.uni-hamburg.de/DE/Ins/Per/Czesla/PyA/PyA/pyaslDoc/aslDoc/outlier.html\n",
    "\n",
    "from __future__ import print_function, division\n",
    "import numpy as np\n",
    "import matplotlib.pylab as plt\n",
    "from PyAstronomy import pyasl"
   ]
  },
  {
   "cell_type": "code",
   "execution_count": 4,
   "metadata": {
    "collapsed": false
   },
   "outputs": [],
   "source": [
    "# Convert data given at:\n",
    "# http://www.itl.nist.gov/div898/handbook/eda/section3/eda35h3.htm\n",
    "# to array.\n",
    "x = np.array([float(x) for x in \"-0.25 0.68 0.94 1.15 1.20 1.26 1.26 1.34 1.38 1.43 1.49 1.49 \\\n",
    "          1.55 1.56 1.58 1.65 1.69 1.70 1.76 1.77 1.81 1.91 1.94 1.96 \\\n",
    "          1.99 2.06 2.09 2.10 2.14 2.15 2.23 2.24 2.26 2.35 2.37 2.40 \\\n",
    "          2.47 2.54 2.62 2.64 2.90 2.92 2.92 2.93 3.21 3.26 3.30 3.59 \\\n",
    "          3.68 4.30 4.64 5.34 5.42 6.01\".split()])"
   ]
  },
  {
   "cell_type": "code",
   "execution_count": 5,
   "metadata": {
    "collapsed": false
   },
   "outputs": [
    {
     "name": "stdout",
     "output_type": "stream",
     "text": [
      "Number of outliers:  3\n",
      "Indices of outliers:  [53, 52, 51]\n",
      "        R      Lambda\n",
      " 1   3.14819   3.15879\n",
      " 2   2.97114   3.15143\n",
      " 3   3.21044   3.14389\n",
      " 4   2.83814   3.13616\n",
      " 5   2.84416   3.12825\n",
      " 6   2.87769   3.12013\n",
      " 7   2.30345   3.11180\n",
      " 8   2.33534   3.10324\n",
      " 9   2.12480   3.09446\n",
      "10   2.09054   3.08542\n"
     ]
    }
   ],
   "source": [
    "# Apply the generalized ESD\n",
    "r = pyasl.generalizedESD(x, 10, 0.05, fullOutput=True)\n",
    "\n",
    "print(\"Number of outliers: \", r[0])\n",
    "print(\"Indices of outliers: \", r[1])\n",
    "print(\"        R      Lambda\")\n",
    "for i in range(len(r[2])):\n",
    "  print(\"%2d  %8.5f  %8.5f\" % ((i+1), r[2][i], r[3][i]))"
   ]
  },
  {
   "cell_type": "code",
   "execution_count": 6,
   "metadata": {
    "collapsed": false
   },
   "outputs": [
    {
     "data": {
      "image/png": "[encoded data removed]",
      "text/plain": [
       "<matplotlib.figure.Figure at 0x1121bff60>"
      ]
     },
     "metadata": {},
     "output_type": "display_data"
    }
   ],
   "source": [
    "# Plot the \"data\"\n",
    "plt.plot(x, 'b.')\n",
    "# and mark the outliers.\n",
    "for i in range(r[0]):\n",
    "  plt.plot(r[1][i], x[r[1][i]], 'rp')\n",
    "plt.show()"
   ]
  }
 ],
 "metadata": {
  "anaconda-cloud": {},
  "kernelspec": {
   "display_name": "Python [default]",
   "language": "python",
   "name": "python3"
  },
  "language_info": {
   "codemirror_mode": {
    "name": "ipython",
    "version": 3
   },
   "file_extension": ".py",
   "mimetype": "text/x-python",
   "name": "python",
   "nbconvert_exporter": "python",
   "pygments_lexer": "ipython3",
   "version": "3.5.2"
  }
 },
 "nbformat": 4,
 "nbformat_minor": 2
}
