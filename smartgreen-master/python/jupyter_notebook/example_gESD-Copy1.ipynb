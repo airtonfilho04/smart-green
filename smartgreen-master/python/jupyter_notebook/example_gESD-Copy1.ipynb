{
 "cells": [
  {
   "cell_type": "code",
   "execution_count": 31,
   "metadata": {
    "collapsed": true
   },
   "outputs": [],
   "source": [
    "# Source: http://www.hs.uni-hamburg.de/DE/Ins/Per/Czesla/PyA/PyA/pyaslDoc/aslDoc/outlier.html\n",
    "\n",
    "from __future__ import print_function, division\n",
    "import numpy as np\n",
    "import matplotlib.pylab as plt\n",
    "from PyAstronomy import pyasl"
   ]
  },
  {
   "cell_type": "code",
   "execution_count": 32,
   "metadata": {
    "collapsed": false
   },
   "outputs": [],
   "source": [
    "# Convert data given at:\n",
    "# http://www.itl.nist.gov/div898/handbook/eda/section3/eda35h3.htm\n",
    "# to array.\n",
    "# data from source material\n",
    "x = np.array([float(x) for x in \"-0.25 0.68 0.94 1.15 1.20 1.26 1.26 1.34 1.38 1.43 \\\n",
    "                                  1.49 1.49 1.55 1.56 1.58 1.65 1.69 1.70 1.76 1.77 \\\n",
    "                                  1.81 1.91 1.94 1.96 1.99 2.06 2.09 2.10 2.14 2.15 \\\n",
    "                                  2.23 2.24 2.26 2.35 2.37 2.40 2.47 2.54 2.62 2.64 \\\n",
    "                                  2.90 2.92 2.92 2.93 3.21 3.26 3.30 3.59 3.68 4.30 \\\n",
    "                                  4.64 5.34 5.42 6.01\".split()])\n",
    "\n",
    "# data from matlab lib test\n",
    "x2 = np.array([float(x) for x in \"2.1 2.6 2.4 2.5 2.3 2.1 2.3 2.6 8.2 8.3\".split()])\n",
    "\n",
    "# data from sensor 3 at 45cm (coleta 2)\n",
    "x3 = np.array([float(x) for x in \"21.22 13.928 685.87 3.982\".split()]) # 1\n",
    "# x3 = np.array([float(x) for x in \"22.822 6.0812 580.73 4.3211\".split()]) # 23\n",
    "# x3 = np.array([float(x) for x in \"22.67 19.875 20.284 4.6661\".split()]) # 102"
   ]
  },
  {
   "cell_type": "code",
   "execution_count": 46,
   "metadata": {
    "collapsed": false
   },
   "outputs": [
    {
     "name": "stdout",
     "output_type": "stream",
     "text": [
      "Number of outliers:  1\n",
      "Indices of outliers:  [2]\n"
     ]
    },
    {
     "ename": "TypeError",
     "evalue": "object of type 'NoneType' has no len()",
     "output_type": "error",
     "traceback": [
      "\u001b[0;31m---------------------------------------------------------------------------\u001b[0m",
      "\u001b[0;31mTypeError\u001b[0m                                 Traceback (most recent call last)",
      "\u001b[0;32m<ipython-input-46-50d85cda30e3>\u001b[0m in \u001b[0;36m<module>\u001b[0;34m()\u001b[0m\n\u001b[1;32m     15\u001b[0m \u001b[0;31m# r = pyasl.generalizedESD(x, 3, 0.05, fullOutput=True)\u001b[0m\u001b[0;34m\u001b[0m\u001b[0;34m\u001b[0m\u001b[0m\n\u001b[1;32m     16\u001b[0m \u001b[0;34m\u001b[0m\u001b[0m\n\u001b[0;32m---> 17\u001b[0;31m \u001b[0mprint\u001b[0m\u001b[0;34m(\u001b[0m\u001b[0mnp\u001b[0m\u001b[0;34m.\u001b[0m\u001b[0mapply_along_axis\u001b[0m\u001b[0;34m(\u001b[0m \u001b[0mdetectOutlier\u001b[0m\u001b[0;34m,\u001b[0m \u001b[0maxis\u001b[0m\u001b[0;34m=\u001b[0m\u001b[0;36m1\u001b[0m\u001b[0;34m,\u001b[0m \u001b[0marr\u001b[0m\u001b[0;34m=\u001b[0m\u001b[0mx4\u001b[0m \u001b[0;34m)\u001b[0m\u001b[0;34m)\u001b[0m\u001b[0;34m\u001b[0m\u001b[0m\n\u001b[0m",
      "\u001b[0;32m/Users/andreibosco/anaconda/lib/python3.5/site-packages/numpy/lib/shape_base.py\u001b[0m in \u001b[0;36mapply_along_axis\u001b[0;34m(func1d, axis, arr, *args, **kwargs)\u001b[0m\n\u001b[1;32m    113\u001b[0m         \u001b[0mholdshape\u001b[0m \u001b[0;34m=\u001b[0m \u001b[0moutshape\u001b[0m\u001b[0;34m\u001b[0m\u001b[0m\n\u001b[1;32m    114\u001b[0m         \u001b[0moutshape\u001b[0m \u001b[0;34m=\u001b[0m \u001b[0mlist\u001b[0m\u001b[0;34m(\u001b[0m\u001b[0marr\u001b[0m\u001b[0;34m.\u001b[0m\u001b[0mshape\u001b[0m\u001b[0;34m)\u001b[0m\u001b[0;34m\u001b[0m\u001b[0m\n\u001b[0;32m--> 115\u001b[0;31m         \u001b[0moutshape\u001b[0m\u001b[0;34m[\u001b[0m\u001b[0maxis\u001b[0m\u001b[0;34m]\u001b[0m \u001b[0;34m=\u001b[0m \u001b[0mlen\u001b[0m\u001b[0;34m(\u001b[0m\u001b[0mres\u001b[0m\u001b[0;34m)\u001b[0m\u001b[0;34m\u001b[0m\u001b[0m\n\u001b[0m\u001b[1;32m    116\u001b[0m         \u001b[0moutarr\u001b[0m \u001b[0;34m=\u001b[0m \u001b[0mzeros\u001b[0m\u001b[0;34m(\u001b[0m\u001b[0moutshape\u001b[0m\u001b[0;34m,\u001b[0m \u001b[0masarray\u001b[0m\u001b[0;34m(\u001b[0m\u001b[0mres\u001b[0m\u001b[0;34m)\u001b[0m\u001b[0;34m.\u001b[0m\u001b[0mdtype\u001b[0m\u001b[0;34m)\u001b[0m\u001b[0;34m\u001b[0m\u001b[0m\n\u001b[1;32m    117\u001b[0m         \u001b[0moutarr\u001b[0m\u001b[0;34m[\u001b[0m\u001b[0mtuple\u001b[0m\u001b[0;34m(\u001b[0m\u001b[0mi\u001b[0m\u001b[0;34m.\u001b[0m\u001b[0mtolist\u001b[0m\u001b[0;34m(\u001b[0m\u001b[0;34m)\u001b[0m\u001b[0;34m)\u001b[0m\u001b[0;34m]\u001b[0m \u001b[0;34m=\u001b[0m \u001b[0mres\u001b[0m\u001b[0;34m\u001b[0m\u001b[0m\n",
      "\u001b[0;31mTypeError\u001b[0m: object of type 'NoneType' has no len()"
     ]
    }
   ],
   "source": [
    "x4 = np.matrix('21.22 13.928 685.87 3.982; \\\n",
    "21.74 11.437 11.695 3.9703; \\\n",
    "21.968 9.648 11.595 4.0697; \\\n",
    "22.243 8.1979 11.32 4.0288; \\\n",
    "22.424 7.1863 11.192 3.9528; \\\n",
    "22.535 6.5723 10.94 3.9937; \\\n",
    "22.594 6.3443 10.823 4.0112; \\\n",
    "22.652 6.1104 10.636 3.9235; \\\n",
    "22.816 6.0929 40.908 3.982; \\\n",
    "22.711 5.9408 22.682 4.0346; \\\n",
    "22.711 5.9701 10.163 3.982; \\\n",
    "22.705 6.0402 10.005 4.0463; \\\n",
    "22.652 5.9408 9.993 4.0463; \\\n",
    "22.594 5.9818 9.8819 4.0814; \\\n",
    "22.763 5.9701 9.7766 4.1048; \\\n",
    "22.646 5.9584 9.7123 4.1165; \\\n",
    "22.705 6.1221 9.6597 4.1633; \\\n",
    "22.53 6.1221 9.5895 4.2159; \\\n",
    "22.477 6.1396 9.5486 4.2276; \\\n",
    "22.477 6.1513 9.5311 4.2276; \\\n",
    "22.588 6.1806 9.5778 4.2627; \\\n",
    "22.769 6.163 109.42 4.3328; \\\n",
    "22.822 6.0812 580.73 4.3211; \\\n",
    "22.933 6.0929 592.49 4.3094; \\\n",
    "23.231 6.1104 627.45 4.3621; \\\n",
    "23.179 6.1747 9.3322 4.3211; \\\n",
    "23.529 6.2449 9.303 4.2744; \\\n",
    "23.711 6.4905 9.227 4.2744; \\\n",
    "23.833 6.6776 9.1919 4.2744; \\\n",
    "23.892 6.8062 9.1451 4.2334; \\\n",
    "24.015 7.0577 9.0574 4.2334; \\\n",
    "23.529 7.3091 9.0048 4.2159; \\\n",
    "23.471 7.5664 8.999 4.175; \\\n",
    "23.407 7.8704 8.9112 4.2276; \\\n",
    "23.29 8.1803 8.9522 4.1866; \\\n",
    "23.167 8.385 8.9405 4.2393; \\\n",
    "23.044 8.5136 8.9405 4.2451; \\\n",
    "22.939 8.7066 8.9112 4.2451; \\\n",
    "22.699 8.9639 8.9112 4.2744; \\\n",
    "22.635 9.1159 8.9522 4.2568; \\\n",
    "22.641 9.2679 8.9814 4.2568; \\\n",
    "22.699 9.4024 8.9405 4.3387; \\\n",
    "22.752 9.5369 8.9931 4.3679; \\\n",
    "22.804 9.7357 9.0633 4.3679; \\\n",
    "22.705 9.8527 9.0808 4.4498; \\\n",
    "22.699 9.7649 9.0925 4.4147; \\\n",
    "23.05 9.5427 9.1334 4.5082; \\\n",
    "23.167 9.5018 9.1451 4.4439; \\\n",
    "23.161 9.4784 9.1451 4.4966; \\\n",
    "23.342 9.6071 9.1685 4.5258; \\\n",
    "23.459 9.6305 9.151 4.4849; \\\n",
    "23.231 9.7416 9.1568 4.4322; \\\n",
    "23.114 9.876 9.1334 4.3855; \\\n",
    "23.348 9.7883 9.1334 4.4322; \\\n",
    "23.22 10.011 9.1042 4.3562; \\\n",
    "22.915 10.449 9.0808 4.3504; \\\n",
    "22.559 10.759 9.075 4.3094; \\\n",
    "22.442 11.045 9.1042 4.2159; \\\n",
    "21.945 11.238 9.0808 4.3211; \\\n",
    "21.717 11.513 9.0984 4.2802; \\\n",
    "21.658 11.548 9.1451 4.2393; \\\n",
    "21.705 12.116 9.2387 4.2919; \\\n",
    "21.635 12.268 9.227 4.3445; \\\n",
    "21.688 12.607 9.3206 4.3036; \\\n",
    "21.588 12.765 9.3498 4.3504; \\\n",
    "21.547 12.998 9.42 4.403; \\\n",
    "21.477 13.273 9.4901 4.4849; \\\n",
    "21.477 13.431 9.5544 4.4556; \\\n",
    "21.711 13.636 9.6071 4.4849; \\\n",
    "21.816 13.595 9.6772 4.555; \\\n",
    "22.05 13.513 9.7591 4.5433; \\\n",
    "22.278 13.694 9.7766 4.5726; \\\n",
    "22.389 13.805 9.8117 4.6077; \\\n",
    "22.29 14.104 9.8643 4.6018; \\\n",
    "22.348 14.384 9.841 4.6077; \\\n",
    "22.693 14.419 9.841 4.5609; \\\n",
    "22.752 14.794 9.8117 4.5199; \\\n",
    "22.74 15.139 9.8176 4.5199; \\\n",
    "22.606 15.595 9.8234 4.4381; \\\n",
    "22.261 15.501 9.7766 4.3796; \\\n",
    "22.05 15.782 9.7942 4.3504; \\\n",
    "21.635 15.846 9.8059 4.3504; \\\n",
    "21.506 16.016 9.8527 4.3153; \\\n",
    "21.454 16.367 9.8527 4.3621; \\\n",
    "21.348 16.495 9.8877 4.3738; \\\n",
    "21.243 16.589 9.9696 4.3855; \\\n",
    "21.237 16.723 10.011 4.4381; \\\n",
    "21.191 16.618 10.046 4.4907; \\\n",
    "20.974 17.197 10.139 4.4498; \\\n",
    "21.085 16.957 10.239 4.5024; \\\n",
    "21.185 17.489 10.25 4.555; \\\n",
    "21.243 17.782 10.32 4.5784; \\\n",
    "21.424 17.659 10.484 4.5726; \\\n",
    "21.541 17.589 10.525 4.6369; \\\n",
    "21.629 17.7 28.196 4.6603; \\\n",
    "21.822 17.934 14.449 4.6369; \\\n",
    "21.752 18.331 12.56 4.7071; \\\n",
    "21.927 18.366 14.49 4.7071; \\\n",
    "22.261 18.77 17.021 4.7071; \\\n",
    "22.378 19.191 18.436 4.7071; \\\n",
    "22.547 19.501 19.413 4.7187; \\\n",
    "22.67 19.875 20.284 4.6661; \\\n",
    "22.401 20.12 21.278 4.6778; \\\n",
    "22.249 20.483 22.003 4.5784; \\\n",
    "22.138 21.161 22.483 4.5433; \\\n",
    "22.249 20.957 22.845 4.555; \\\n",
    "22.138 21.424 23.132 4.6018; \\\n",
    "22.021 21.541 23.296 4.5609; \\\n",
    "21.962 21.664 23.395 4.6135; \\\n",
    "21.951 21.53 23.348 4.6252; \\\n",
    "21.74 22.003 23.307 4.6252; \\\n",
    "21.793 22.179 23.255 4.6778; \\\n",
    "22.021 22.296 23.266 4.7304; \\\n",
    "22.021 22.413 23.085 4.7304; \\\n",
    "22.132 22.53 23.032 4.7421; \\\n",
    "22.138 22.646 23.097 4.8357; \\\n",
    "22.266 22.898 22.997 4.8942; \\\n",
    "22.465 22.67 22.839 4.9234; \\\n",
    "22.57 22.372 22.717 4.9; \\\n",
    "22.816 22.67 22.541 4.9585')\n",
    "# print(x)\n",
    "\n",
    "def myfunction( x ):\n",
    "#     print(x)\n",
    "    return sum(x)\n",
    "\n",
    "def detectOutlier( data ):\n",
    "    r = pyasl.generalizedESD(data, 3, 6.5, fullOutput=True)\n",
    "    print(\"Number of outliers: \", r[0])\n",
    "    print(\"Indices of outliers: \", r[1])\n",
    "\n",
    "# print(np.apply_along_axis( myfunction, axis=1, arr=x ))\n",
    "# detectOutlier(x3)\n",
    "# r = pyasl.generalizedESD(x, 3, 0.05, fullOutput=True)\n",
    "\n",
    "print(np.apply_along_axis( detectOutlier, axis=1, arr=x4 ))"
   ]
  },
  {
   "cell_type": "code",
   "execution_count": 33,
   "metadata": {
    "collapsed": false
   },
   "outputs": [
    {
     "name": "stdout",
     "output_type": "stream",
     "text": [
      "Number of outliers:  3\n",
      "Indices of outliers:  [53, 52, 51]\n",
      "        R      Lambda\n",
      " 1   3.14819   3.15879\n",
      " 2   2.97114   3.15143\n",
      " 3   3.21044   3.14389\n"
     ]
    }
   ],
   "source": [
    "# Apply the generalized ESD\n",
    "r = pyasl.generalizedESD(x, 3, 6.5, fullOutput=True)\n",
    "\n",
    "print(\"Number of outliers: \", r[0])\n",
    "print(\"Indices of outliers: \", r[1])\n",
    "print(\"        R      Lambda\")\n",
    "for i in range(len(r[2])):\n",
    "  print(\"%2d  %8.5f  %8.5f\" % ((i+1), r[2][i], r[3][i]))"
   ]
  },
  {
   "cell_type": "code",
   "execution_count": 61,
   "metadata": {
    "collapsed": false
   },
   "outputs": [
    {
     "data": {
      "image/png": "[encoded data removed]",
      "text/plain": [
       "<matplotlib.figure.Figure at 0x114eaf6d8>"
      ]
     },
     "metadata": {},
     "output_type": "display_data"
    }
   ],
   "source": [
    "# Plot the \"data\"\n",
    "plt.plot(x3, 'b.')\n",
    "# and mark the outliers.\n",
    "for i in range(r[0]):\n",
    "  plt.plot(r[1][i], x3[r[1][i]], 'rp')\n",
    "plt.show()"
   ]
  },
  {
   "cell_type": "code",
   "execution_count": null,
   "metadata": {
    "collapsed": true
   },
   "outputs": [],
   "source": []
  }
 ],
 "metadata": {
  "anaconda-cloud": {},
  "kernelspec": {
   "display_name": "Python [default]",
   "language": "python",
   "name": "python3"
  },
  "language_info": {
   "codemirror_mode": {
    "name": "ipython",
    "version": 3
   },
   "file_extension": ".py",
   "mimetype": "text/x-python",
   "name": "python",
   "nbconvert_exporter": "python",
   "pygments_lexer": "ipython3",
   "version": "3.5.2"
  }
 },
 "nbformat": 4,
 "nbformat_minor": 2
}
